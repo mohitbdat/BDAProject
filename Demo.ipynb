{
 "cells": [
  {
   "cell_type": "code",
   "execution_count": 28,
   "metadata": {},
   "outputs": [],
   "source": [
    "import io \n",
    "from pdfminer.converter import TextConverter \n",
    "from pdfminer.pdfinterp import PDFPageInterpreter \n",
    "from pdfminer.pdfinterp import PDFResourceManager \n",
    "from pdfminer.pdfpage import PDFPage\n",
    "from keybert import KeyBERT\n",
    "import requests"
   ]
  },
  {
   "cell_type": "code",
   "execution_count": 29,
   "metadata": {},
   "outputs": [],
   "source": [
    "def extract_text_by_page(pdf_path): \n",
    "\n",
    "    with open(pdf_path, 'rb') as fh: \n",
    "        \n",
    "        for page in PDFPage.get_pages(fh, \n",
    "                                    caching=True, \n",
    "                                    check_extractable=True): \n",
    "            \n",
    "            resource_manager = PDFResourceManager() \n",
    "            fake_file_handle = io.StringIO() \n",
    "            \n",
    "            converter = TextConverter(resource_manager, \n",
    "                                    fake_file_handle) \n",
    "            \n",
    "            page_interpreter = PDFPageInterpreter(resource_manager, \n",
    "                                                converter) \n",
    "            \n",
    "            page_interpreter.process_page(page) \n",
    "            text = fake_file_handle.getvalue() \n",
    "            \n",
    "            yield text \n",
    "            \n",
    "            # close open handles \n",
    "            converter.close() \n",
    "            fake_file_handle.close()"
   ]
  },
  {
   "cell_type": "code",
   "execution_count": 30,
   "metadata": {},
   "outputs": [],
   "source": [
    "def extract_text(pdf_path):\n",
    "    text = \"\"\n",
    "    for page in extract_text_by_page(pdf_path): \n",
    "        text = page + \" \"\n",
    "    return text"
   ]
  },
  {
   "cell_type": "code",
   "execution_count": 31,
   "metadata": {},
   "outputs": [],
   "source": [
    "def segment_str(chars, exclude=None):\n",
    "\n",
    "    words = []\n",
    "\n",
    "    if not chars.isalpha():  # don't check punctuation etc.; needs more work\n",
    "        return [chars]\n",
    "\n",
    "    if not exclude:\n",
    "        exclude = set()\n",
    "\n",
    "    working_chars = chars\n",
    "    while working_chars:\n",
    "        # iterate through segments of the chars starting with the longest segment possible\n",
    "        for i in range(len(working_chars), 1, -1):\n",
    "            segment = working_chars[:i]\n",
    "            if eng_dict.check(segment) and segment not in exclude:\n",
    "                words.append(segment)\n",
    "                working_chars = working_chars[i:]\n",
    "                break\n",
    "        else:  # no matching segments were found\n",
    "            if words:\n",
    "                exclude.add(words[-1])\n",
    "                return segment_str(chars, exclude=exclude)\n",
    "            # let the user know a word was missing from the dictionary,\n",
    "            # but keep the word\n",
    "            print('\"{chars}\" not in dictionary (so just keeping as one segment)!'\n",
    "                  .format(chars=chars))\n",
    "            return [chars]\n",
    "    # return a list of words based on the segmentation\n",
    "    return words"
   ]
  },
  {
   "cell_type": "code",
   "execution_count": 32,
   "metadata": {},
   "outputs": [
    {
     "name": "stdout",
     "output_type": "stream",
     "text": [
      "FOUR COUNTY LABOUR MARKET PLANNING BOARD111 Jackson Street South, Suite 1Walkerton, ON  N0G 1L0www.planningboard.ca • 519-881-2725\f",
      " \n"
     ]
    }
   ],
   "source": [
    "doc = extract_text(r\"Understanding Supply-and-Demand-C2J-2022.pdf\")\n",
    "print(doc)"
   ]
  },
  {
   "cell_type": "code",
   "execution_count": 33,
   "metadata": {},
   "outputs": [],
   "source": [
    "kw_model = KeyBERT()"
   ]
  },
  {
   "cell_type": "code",
   "execution_count": 34,
   "metadata": {},
   "outputs": [
    {
     "ename": "SyntaxError",
     "evalue": "EOL while scanning string literal (3164884919.py, line 11)",
     "output_type": "error",
     "traceback": [
      "\u001b[1;36m  Input \u001b[1;32mIn [34]\u001b[1;36m\u001b[0m\n\u001b[1;33m    \"\"\"\"\u001b[0m\n\u001b[1;37m        \n^\u001b[0m\n\u001b[1;31mSyntaxError\u001b[0m\u001b[1;31m:\u001b[0m EOL while scanning string literal\n"
     ]
    }
   ],
   "source": [
    "\n",
    "# doc = \"\"\"\n",
    "#      What's been added so far ? Grey County Trails Grey County Official Plan GIS Data Grey County Roads Data Grey County Rural Business Listing Grey County Children s Services Overview Census 2016 Results For more information about BGDISC , contact Brad Noble at 519 376 2205 . Grey County Early Development Instrument Results Grey County Children s Services Overview Child Care Wait list Alcohol Vendors Grey Bruce Food Security Assets Employer One Summary Report Backpack Program United Way of Bruce Grey Utility Assistance Program United Way of Bruce Grey Population by age and sex Dwellings and Housing Families , Households , Marital Status Income , Lab our , Commute to Work Mobility , Migration Immigration , Eth no cultural Diversity , Aboriginal Identity Grey County 211 Statistics for 2017A Profile of Child , Youth and Family Health in Grey and Bruce Counties Census Municipal Profiles Substance Abuse Trends Grey Bruce Canadian Community Health Survey Reports 1 . Business Economy 2 . Government Finance 3 . Demographics 4 . Education 5 . Environment 6 . Health 7 . Infrastructure 8 . Land Use Development 9 . Recreation , Culture Tourism 10 . Community Social Services 11 . TransportationBGDISC Open Data Topics If your organization would like an introduction to BGDISC , contact Brad Noble at 519 376 2205 . https bgdisc . ca open data toolkit data contributorsBGDISC Introduction ReadinessBGDISC Open Data Toolkit Have a data driven spring ! The BGDISC Open Data Toolkit has been updated and now contains two sections . The first section is for data users those who are coming to BGDISC to use the available data . The second section is for data contributors those who are coming to BGDISC to add their own data to the BGDISC available data . The data user section has the BGDISC Terms of Reference and the BGDISC Open Data License . Both documents help data users understand how they are permitted to use the available data , as well as understanding the principles and goals of the BGDISC . The data contributor section has several documents , including the BGDISC Terms of Reference , Open Data License and the BGDISC Open Data Readiness Survey . Within the data contributor section there is also another page devoted to help organizations create their own Open Data Licenses , Policies and Assessment Structures . If your organization would like to become a member of BGDISC , complete the readiness survey . Both the Google Form and the PDF document of the survey area vail able at this URL\n",
    "#      \"\"\"\n",
    "\n",
    "\"\"\"\"\n",
    "url = 'https://bgdisc.ca/sites/default/files/Understanding%20Supply-and-Demand-C2J-2022.pdf'\n",
    "r = requests.get(url, allow_redirects=True)\n",
    "open('temp.pdf', 'wb').write(r.content)\n",
    "doc = extract_text('temp.pdf')\n",
    "print(doc)\n",
    "\"\"\"\"\n",
    "\n",
    "keywords = kw_model.extract_keywords(doc)"
   ]
  },
  {
   "cell_type": "code",
   "execution_count": 35,
   "metadata": {},
   "outputs": [
    {
     "data": {
      "text/plain": [
       "[('ca', 0.3369),\n",
       " ('planningboard', 0.3345),\n",
       " ('county', 0.3324),\n",
       " ('jackson', 0.3083),\n",
       " ('street', 0.2974)]"
      ]
     },
     "execution_count": 35,
     "metadata": {},
     "output_type": "execute_result"
    }
   ],
   "source": [
    "kw_model.extract_keywords(doc, keyphrase_ngram_range=(1, 1))"
   ]
  },
  {
   "cell_type": "code",
   "execution_count": 36,
   "metadata": {},
   "outputs": [
    {
     "data": {
      "text/plain": [
       "[('planning board111 jackson', 0.5956),\n",
       " ('board111 jackson street', 0.5877),\n",
       " ('jackson street south', 0.5357),\n",
       " ('jackson street', 0.5232),\n",
       " ('county labour market', 0.4972)]"
      ]
     },
     "execution_count": 36,
     "metadata": {},
     "output_type": "execute_result"
    }
   ],
   "source": [
    "kw_model.extract_keywords(doc, keyphrase_ngram_range=(1, 3))"
   ]
  },
  {
   "cell_type": "code",
   "execution_count": 37,
   "metadata": {},
   "outputs": [
    {
     "data": {
      "text/plain": [
       "[('planning board111 jackson', 0.5956),\n",
       " ('board111 jackson street', 0.5877),\n",
       " ('jackson street south', 0.5357),\n",
       " ('jackson street', 0.5232),\n",
       " ('county labour market', 0.4972)]"
      ]
     },
     "execution_count": 37,
     "metadata": {},
     "output_type": "execute_result"
    }
   ],
   "source": [
    "kw_model.extract_keywords(doc, keyphrase_ngram_range=(1, 3), stop_words=None)"
   ]
  },
  {
   "cell_type": "code",
   "execution_count": 38,
   "metadata": {},
   "outputs": [
    {
     "data": {
      "text/plain": [
       "[('1l0www planningboard', 0.3371),\n",
       " ('labour market', 0.3393),\n",
       " ('south suite 1walkerton', 0.357),\n",
       " ('ca 519 881', 0.4292),\n",
       " ('jackson street', 0.5232)]"
      ]
     },
     "execution_count": 38,
     "metadata": {},
     "output_type": "execute_result"
    }
   ],
   "source": [
    "kw_model.extract_keywords(doc, keyphrase_ngram_range=(1, 3), \n",
    "                          use_maxsum=True, nr_candidates=20, top_n=5)"
   ]
  },
  {
   "cell_type": "code",
   "execution_count": 39,
   "metadata": {},
   "outputs": [
    {
     "data": {
      "text/plain": [
       "[('planning board111 jackson', 0.5956),\n",
       " ('labour market', 0.3393),\n",
       " ('519 881 2725', 0.1377),\n",
       " ('ca', 0.3369),\n",
       " ('south suite', 0.2876)]"
      ]
     },
     "execution_count": 39,
     "metadata": {},
     "output_type": "execute_result"
    }
   ],
   "source": [
    "kw_model.extract_keywords(doc, keyphrase_ngram_range=(1, 3),\n",
    "                          use_mmr=True, diversity=0.7)"
   ]
  },
  {
   "cell_type": "code",
   "execution_count": 40,
   "metadata": {},
   "outputs": [
    {
     "data": {
      "text/plain": [
       "[('planning board111 jackson', 0.5956),\n",
       " ('county labour market', 0.4972),\n",
       " ('board111 jackson street', 0.5877),\n",
       " ('jackson street south', 0.5357),\n",
       " ('planningboard ca', 0.4893)]"
      ]
     },
     "execution_count": 40,
     "metadata": {},
     "output_type": "execute_result"
    }
   ],
   "source": [
    "kw_model.extract_keywords(doc, keyphrase_ngram_range=(1, 3),\n",
    "                              use_mmr=True, diversity=0.2)"
   ]
  },
  {
   "cell_type": "code",
   "execution_count": 41,
   "metadata": {},
   "outputs": [
    {
     "data": {
      "text/plain": [
       "[('jackson', 0.4455),\n",
       " ('county', 0.3876),\n",
       " ('planningboard', 0.3728),\n",
       " ('1walkerton', 0.3387),\n",
       " ('519', 0.3244),\n",
       " ('planning', 0.294),\n",
       " ('suite', 0.2937),\n",
       " ('2725', 0.2803),\n",
       " ('1l0www', 0.2791),\n",
       " ('board111', 0.2608),\n",
       " ('n0g', 0.2475),\n",
       " ('market', 0.2466),\n",
       " ('south', 0.2352),\n",
       " ('ca', 0.2303),\n",
       " ('street', 0.1913)]"
      ]
     },
     "execution_count": 41,
     "metadata": {},
     "output_type": "execute_result"
    }
   ],
   "source": [
    "kw_model = KeyBERT(model=\"xlm-r-bert-base-nli-stsb-mean-tokens\")\n",
    "kw_model.extract_keywords(doc, top_n=15)"
   ]
  },
  {
   "cell_type": "markdown",
   "metadata": {},
   "source": [
    "Or we can select a SentenceTransformer model with our own parameters:"
   ]
  },
  {
   "cell_type": "code",
   "execution_count": 42,
   "metadata": {},
   "outputs": [],
   "source": [
    "from sentence_transformers import SentenceTransformer\n",
    "#sentence_model = SentenceTransformer(\"xlm-r-bert-base-nli-stsb-mean-tokens\", device=\"cuda\")\n",
    "sentence_model = SentenceTransformer(\"xlm-r-bert-base-nli-stsb-mean-tokens\")"
   ]
  },
  {
   "cell_type": "code",
   "execution_count": 43,
   "metadata": {},
   "outputs": [
    {
     "data": {
      "text/plain": [
       "[('jackson', 0.4455),\n",
       " ('county', 0.3876),\n",
       " ('planningboard', 0.3728),\n",
       " ('1walkerton', 0.3387),\n",
       " ('519', 0.3244)]"
      ]
     },
     "execution_count": 43,
     "metadata": {},
     "output_type": "execute_result"
    }
   ],
   "source": [
    "kw_model = KeyBERT(model=sentence_model)\n",
    "kw_model.extract_keywords(doc)"
   ]
  },
  {
   "cell_type": "code",
   "execution_count": null,
   "metadata": {},
   "outputs": [],
   "source": []
  }
 ],
 "metadata": {
  "kernelspec": {
   "display_name": "Python 3 (ipykernel)",
   "language": "python",
   "name": "python3"
  },
  "language_info": {
   "codemirror_mode": {
    "name": "ipython",
    "version": 3
   },
   "file_extension": ".py",
   "mimetype": "text/x-python",
   "name": "python",
   "nbconvert_exporter": "python",
   "pygments_lexer": "ipython3",
   "version": "3.8.13"
  }
 },
 "nbformat": 4,
 "nbformat_minor": 4
}
